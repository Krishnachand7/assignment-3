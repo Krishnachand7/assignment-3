{
 "cells": [
  {
   "cell_type": "markdown",
   "id": "1aa3ef66-a41d-467e-b9c2-e769d04e519f",
   "metadata": {},
   "source": [
    "to create a function we use def keyword"
   ]
  },
  {
   "cell_type": "code",
   "execution_count": 2,
   "id": "7d032df8-fb2e-4dd2-8670-8111d5badc90",
   "metadata": {},
   "outputs": [],
   "source": [
    "def odd():\n",
    "    l=[]\n",
    "    for i in range(0,25):\n",
    "        if i%2!=0:\n",
    "            l.append(i)\n",
    "    return l"
   ]
  },
  {
   "cell_type": "code",
   "execution_count": 3,
   "id": "c60aa0cd-0021-4310-bf94-f3db9b74927a",
   "metadata": {},
   "outputs": [
    {
     "data": {
      "text/plain": [
       "[1, 3, 5, 7, 9, 11, 13, 15, 17, 19, 21, 23]"
      ]
     },
     "execution_count": 3,
     "metadata": {},
     "output_type": "execute_result"
    }
   ],
   "source": [
    "odd()"
   ]
  },
  {
   "cell_type": "code",
   "execution_count": 4,
   "id": "7b39b73e-1085-4d3e-a656-9f47bf12d04b",
   "metadata": {},
   "outputs": [],
   "source": [
    "#*args\n",
    "def test(*args):\n",
    "    return args"
   ]
  },
  {
   "cell_type": "code",
   "execution_count": 5,
   "id": "d28db78c-3a9b-4e0b-a6ad-5a667850a309",
   "metadata": {},
   "outputs": [
    {
     "data": {
      "text/plain": [
       "(1, 2, 3, 4, 5, 6, 7, 8, 9)"
      ]
     },
     "execution_count": 5,
     "metadata": {},
     "output_type": "execute_result"
    }
   ],
   "source": [
    "test(1,2,3,4,5,6,7,8,9)"
   ]
  },
  {
   "cell_type": "code",
   "execution_count": 7,
   "id": "40dc3dac-d231-4436-9b24-b451e0f27141",
   "metadata": {},
   "outputs": [],
   "source": [
    "def test1(*args,a):\n",
    "    return args ,a "
   ]
  },
  {
   "cell_type": "code",
   "execution_count": 8,
   "id": "edfc430f-dbcc-406d-80af-0037def21539",
   "metadata": {},
   "outputs": [
    {
     "data": {
      "text/plain": [
       "((1, 2, 3, 4, 5, 6), 12)"
      ]
     },
     "execution_count": 8,
     "metadata": {},
     "output_type": "execute_result"
    }
   ],
   "source": [
    "test1(1,2,3,4,5,6,a=12)"
   ]
  },
  {
   "cell_type": "code",
   "execution_count": 14,
   "id": "40006c77-1f35-4b36-b1c7-d1d70d9fee21",
   "metadata": {},
   "outputs": [],
   "source": [
    "def test3(**kwargs):\n",
    "    return kwargs"
   ]
  },
  {
   "cell_type": "code",
   "execution_count": 12,
   "id": "45abce11-f964-4738-bb19-0278d8255b2e",
   "metadata": {},
   "outputs": [
    {
     "data": {
      "text/plain": [
       "()"
      ]
     },
     "execution_count": 12,
     "metadata": {},
     "output_type": "execute_result"
    }
   ],
   "source": [
    "test3()"
   ]
  },
  {
   "cell_type": "code",
   "execution_count": 15,
   "id": "a3303065-c517-4b72-bae9-4cfb59c96d2d",
   "metadata": {},
   "outputs": [
    {
     "data": {
      "text/plain": [
       "{'a': 10, 'b': 20, 'c': 30}"
      ]
     },
     "execution_count": 15,
     "metadata": {},
     "output_type": "execute_result"
    }
   ],
   "source": [
    "test3(a=10,b=20,c=30)"
   ]
  },
  {
   "cell_type": "code",
   "execution_count": 35,
   "id": "11b77e68-ca67-426f-90ed-8f4749268231",
   "metadata": {},
   "outputs": [],
   "source": [
    "def iterator(args):\n",
    "    ite=iter(args)\n",
    "    print(next(ite))\n",
    "    print(next(ite))\n",
    "    print(next(ite))\n",
    "    print(next(ite))\n",
    "    print(next(ite))\n",
    "          \n",
    "          "
   ]
  },
  {
   "cell_type": "code",
   "execution_count": 32,
   "id": "39b5efa3-5e59-43f5-8707-bdb0900dab40",
   "metadata": {},
   "outputs": [],
   "source": [
    "l=[2,4,6,8,10,12,14,16,18,20]"
   ]
  },
  {
   "cell_type": "code",
   "execution_count": 36,
   "id": "fd19135d-be50-4089-bc5f-159420bd739e",
   "metadata": {},
   "outputs": [
    {
     "name": "stdout",
     "output_type": "stream",
     "text": [
      "2\n",
      "4\n",
      "6\n",
      "8\n",
      "10\n"
     ]
    }
   ],
   "source": [
    "iterator(l)"
   ]
  },
  {
   "cell_type": "code",
   "execution_count": 37,
   "id": "902fb2a5-6cee-4276-af6f-0c8f6bbc4203",
   "metadata": {},
   "outputs": [],
   "source": [
    "def fibanocii(x):\n",
    "    a,b=0,1\n",
    "    for i in range(x):\n",
    "        yield a\n",
    "        a,b=b,a+b\n",
    "    \n",
    "    "
   ]
  },
  {
   "cell_type": "code",
   "execution_count": 39,
   "id": "2d12e9ff-e6a3-49b3-9608-7786c204d725",
   "metadata": {},
   "outputs": [
    {
     "data": {
      "text/plain": [
       "[0, 1, 1, 2, 3, 5, 8, 13, 21, 34]"
      ]
     },
     "execution_count": 39,
     "metadata": {},
     "output_type": "execute_result"
    }
   ],
   "source": [
    "list(fibanocii(10))"
   ]
  },
  {
   "cell_type": "code",
   "execution_count": 56,
   "id": "c1510f3c-d21e-420d-9dc2-49063ba69a16",
   "metadata": {},
   "outputs": [],
   "source": [
    "def prime(x):\n",
    "    for i in range(1,x):\n",
    "        l=[]\n",
    "        count=0\n",
    "        for n in range(1,i):            \n",
    "            if i%n==0:\n",
    "                count=count+1\n",
    "            else:\n",
    "                pass\n",
    "        if count==2:\n",
    "            l.append(i)\n",
    "    return l    \n",
    "            "
   ]
  },
  {
   "cell_type": "code",
   "execution_count": 57,
   "id": "f2fca5b3-9155-4032-b5e0-c7c752a73afa",
   "metadata": {},
   "outputs": [
    {
     "data": {
      "text/plain": [
       "[]"
      ]
     },
     "execution_count": 57,
     "metadata": {},
     "output_type": "execute_result"
    }
   ],
   "source": [
    "prime(20)"
   ]
  },
  {
   "cell_type": "code",
   "execution_count": 73,
   "id": "24d85a20-8397-48a8-bcbd-0fb50d5bb5a9",
   "metadata": {},
   "outputs": [],
   "source": [
    "for x in range(1,101):\n",
    "    \n",
    "    for y in range(2,x):\n",
    "        if x%y==0:break\n",
    "        else:\n",
    "            ab={x}\n",
    "            \n"
   ]
  },
  {
   "cell_type": "code",
   "execution_count": 74,
   "id": "c1804971-3558-4e77-9c3b-97e2c498f44d",
   "metadata": {},
   "outputs": [
    {
     "data": {
      "text/plain": [
       "{99}"
      ]
     },
     "execution_count": 74,
     "metadata": {},
     "output_type": "execute_result"
    }
   ],
   "source": [
    "ab"
   ]
  },
  {
   "cell_type": "code",
   "execution_count": null,
   "id": "c3bbbf89-45fa-4a67-84d1-ab58f088196f",
   "metadata": {},
   "outputs": [],
   "source": []
  }
 ],
 "metadata": {
  "kernelspec": {
   "display_name": "Python 3 (ipykernel)",
   "language": "python",
   "name": "python3"
  },
  "language_info": {
   "codemirror_mode": {
    "name": "ipython",
    "version": 3
   },
   "file_extension": ".py",
   "mimetype": "text/x-python",
   "name": "python",
   "nbconvert_exporter": "python",
   "pygments_lexer": "ipython3",
   "version": "3.10.8"
  }
 },
 "nbformat": 4,
 "nbformat_minor": 5
}
